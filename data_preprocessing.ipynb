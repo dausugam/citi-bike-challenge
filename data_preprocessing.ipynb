{
 "cells": [
  {
   "cell_type": "code",
   "execution_count": 17,
   "metadata": {},
   "outputs": [],
   "source": [
    "# Import dependancies\n",
    "import pandas as pd"
   ]
  },
  {
   "cell_type": "code",
   "execution_count": 18,
   "metadata": {},
   "outputs": [],
   "source": [
    "# List of file paths\n",
    "file_paths = [\n",
    "    \"citibike_tripdata/202406-citibike-tripdata_1.csv\",\n",
    "    \"citibike_tripdata/202406-citibike-tripdata_2.csv\",\n",
    "    \"citibike_tripdata/202406-citibike-tripdata_3.csv\",\n",
    "    \"citibike_tripdata/202406-citibike-tripdata_4.csv\",\n",
    "    \"citibike_tripdata/202406-citibike-tripdata_5.csv\"\n",
    "    #\"citibike_tripdata/JC-202406-citibike-tripdata.csv\"\n",
    "]\n",
    "\n",
    "# Initialize and empty list to store DataFrames\n",
    "data_frames = []\n",
    "\n",
    "# Define data types for the columns in the DataFrames\n",
    "data_types = {\n",
    "    \"ride_id\": str,\n",
    "    \"rideable_type\": str,\n",
    "    \"start_station_name\": str,\n",
    "    \"start_station_id\": str,\n",
    "    \"end_station_name\": str,\n",
    "    \"end_station_id\": str,\n",
    "    \"start_lat\": \"float64\",\n",
    "    \"start_lng\": \"float64\",\n",
    "    \"end_lat\": \"float64\",\n",
    "    \"end_lng\": \"float64\",\n",
    "    \"member_casual\": str\n",
    "}\n",
    "\n",
    "# Loop through file paths and read each DataFrame\n",
    "for path in file_paths:\n",
    "    df = pd.read_csv(path, dtype=data_types, parse_dates = [\"started_at\", \"ended_at\"])\n",
    "    data_frames.append(df)\n",
    "\n",
    "# Concatenate all DataFrames in the list\n",
    "citi_bike_rides = pd.concat(data_frames, ignore_index=True)"
   ]
  },
  {
   "cell_type": "code",
   "execution_count": 19,
   "metadata": {},
   "outputs": [],
   "source": [
    "# Calculate the length of the ride in minutes\n",
    "citi_bike_rides[\"ride_length\"] = ((citi_bike_rides[\"ended_at\"] - citi_bike_rides[\"started_at\"]).dt.total_seconds()) / 60"
   ]
  },
  {
   "cell_type": "code",
   "execution_count": 20,
   "metadata": {},
   "outputs": [],
   "source": [
    "# Drop rows with any NaN values\n",
    "citi_bike_rides = citi_bike_rides.dropna()"
   ]
  },
  {
   "cell_type": "code",
   "execution_count": 21,
   "metadata": {},
   "outputs": [],
   "source": [
    "# Save rides DataFrame to CSV file\n",
    "citi_bike_rides.to_csv('rides.csv', index=False)"
   ]
  }
 ],
 "metadata": {
  "kernelspec": {
   "display_name": "dev3.10",
   "language": "python",
   "name": "python3"
  },
  "language_info": {
   "codemirror_mode": {
    "name": "ipython",
    "version": 3
   },
   "file_extension": ".py",
   "mimetype": "text/x-python",
   "name": "python",
   "nbconvert_exporter": "python",
   "pygments_lexer": "ipython3",
   "version": "3.10.14"
  }
 },
 "nbformat": 4,
 "nbformat_minor": 2
}
